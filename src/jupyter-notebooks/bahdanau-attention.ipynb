{
 "cells": [
  {
   "attachments": {},
   "cell_type": "markdown",
   "metadata": {},
   "source": [
    "A simple example of implementing Bahdanau Attention in Python using NumPy. In this example, we'll consider input sequences of length 4 and a hidden state of length 3. Bahdanau Attention calculates a context vector based on the alignment of the input sequence and the hidden state."
   ]
  },
  {
   "cell_type": "code",
   "execution_count": 1,
   "metadata": {},
   "outputs": [
    {
     "name": "stdout",
     "output_type": "stream",
     "text": [
      "Context Vector: [0.70938096 0.80938096 0.90938096]\n",
      "Attention Weights: [0.17999868 0.24206849 0.27793046 0.30000237]\n"
     ]
    }
   ],
   "source": [
    "import numpy as np\n",
    "\n",
    "def bahdanau_attention(hidden_state, encoder_outputs):\n",
    "    # Assuming hidden_state is of shape (3,)\n",
    "    # and encoder_outputs is of shape (4, 3)\n",
    "    \n",
    "    # Define parameters for attention mechanism\n",
    "    W_h = np.random.rand(3, 3)  # Weights for hidden state\n",
    "    W_e = np.random.rand(3, 3)  # Weights for encoder outputs\n",
    "    v = np.random.rand(3)       # Scoring vector\n",
    "    \n",
    "    # Calculate attention scores\n",
    "    scores = np.dot(np.tanh(np.dot(encoder_outputs, W_e) + np.dot(hidden_state, W_h)), v)\n",
    "    \n",
    "    # Calculate attention weights using softmax\n",
    "    attention_weights = np.exp(scores) / np.sum(np.exp(scores), axis=0)\n",
    "    \n",
    "    # Calculate context vector\n",
    "    context_vector = np.dot(attention_weights, encoder_outputs)\n",
    "    \n",
    "    return context_vector, attention_weights\n",
    "\n",
    "# Example input data\n",
    "hidden_state = np.array([0.1, 0.2, 0.3])\n",
    "encoder_outputs = np.array([[0.2, 0.3, 0.4],\n",
    "                            [0.5, 0.6, 0.7],\n",
    "                            [0.8, 0.9, 1.0],\n",
    "                            [1.1, 1.2, 1.3]])\n",
    "\n",
    "# Calculate attention\n",
    "context_vector, attention_weights = bahdanau_attention(hidden_state, encoder_outputs)\n",
    "\n",
    "print(\"Context Vector:\", context_vector)\n",
    "print(\"Attention Weights:\", attention_weights)"
   ]
  },
  {
   "attachments": {},
   "cell_type": "markdown",
   "metadata": {},
   "source": [
    "In this example, we define the Bahdanau Attention mechanism as a function bahdanau_attention(). We calculate attention scores using the weights W_h and W_e, followed by calculating attention weights using softmax. The context vector is obtained by taking the weighted sum of the encoder outputs based on the attention weights.\n",
    "\n",
    "Note that in a real-world scenario, you would usually use learned parameters for W_h and W_e and the attention mechanism would be incorporated into a larger model, such as a sequence-to-sequence model."
   ]
  }
 ],
 "metadata": {
  "kernelspec": {
   "display_name": "Python 3",
   "language": "python",
   "name": "python3"
  },
  "language_info": {
   "codemirror_mode": {
    "name": "ipython",
    "version": 3
   },
   "file_extension": ".py",
   "mimetype": "text/x-python",
   "name": "python",
   "nbconvert_exporter": "python",
   "pygments_lexer": "ipython3",
   "version": "3.10.4"
  },
  "orig_nbformat": 4
 },
 "nbformat": 4,
 "nbformat_minor": 2
}
