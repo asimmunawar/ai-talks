{
 "cells": [
  {
   "attachments": {},
   "cell_type": "markdown",
   "metadata": {},
   "source": [
    "Simple Luong Attention (Global) as given in the paper.\n",
    "\n",
    "Minh-Thang Luong, Hieu Pham, Christopher D. Manning, Effective Approaches to Attention-based Neural Machine Translation, 2015 (https://arxiv.org/abs/1508.04025)\n",
    "\n",
    "Compute attention as given in the paper section 3.1 as \"dot\"\n",
    "\n",
    "Note that in a real-world scenario, attention mechanism would be incorporated into a larger model, such as a sequence-to-sequence model."
   ]
  },
  {
   "cell_type": "code",
   "execution_count": 20,
   "metadata": {},
   "outputs": [
    {
     "name": "stdout",
     "output_type": "stream",
     "text": [
      "Attention Weights: [0.16390732 0.22798986 0.39123216 0.21687066]\n",
      "Context Vector: [0.53325865 0.54651039 0.67399552]\n"
     ]
    }
   ],
   "source": [
    "import numpy as np\n",
    "\n",
    "# Encoder hidden states\n",
    "encoder_hidden_states = np.array([[0.1, 0.2, 0.6],\n",
    "                                  [0.4, 0.5, 0.6],\n",
    "                                  [0.7, 0.8, 0.9],\n",
    "                                  [0.7, 0.4, 0.4]])\n",
    "\n",
    "# Decoder hidden state\n",
    "decoder_hidden_state = np.array([0.5, 0.6, 0.7])\n",
    "\n",
    "# Calculate attention scores (dot)\n",
    "attention_scores = np.dot(decoder_hidden_state, np.transpose(encoder_hidden_states))\n",
    "\n",
    "# Apply softmax to get attention weights\n",
    "attention_weights = np.exp(attention_scores) / np.sum(np.exp(attention_scores))\n",
    "\n",
    "# Calculate context vector\n",
    "context_vector = np.dot(attention_weights, encoder_hidden_states)\n",
    "\n",
    "print(\"Attention Weights:\", attention_weights)\n",
    "print(\"Context Vector:\", context_vector)"
   ]
  },
  {
   "attachments": {},
   "cell_type": "markdown",
   "metadata": {},
   "source": [
    "Compute attention as given in the paper section 3.1 as \"general\".\n",
    "\n",
    "Note: This is just an example and Wa is initialized with random weights. In a real-world scenario, you would usually use learned parameters for Wa and the attention mechanism would be incorporated into a larger model, such as a sequence-to-sequence model."
   ]
  },
  {
   "cell_type": "code",
   "execution_count": 21,
   "metadata": {},
   "outputs": [
    {
     "name": "stdout",
     "output_type": "stream",
     "text": [
      "Attention Weights: [0.1079391  0.18923605 0.50715771 0.19566713]\n",
      "Context Vector: [0.57846572 0.60019887 0.71301389]\n"
     ]
    }
   ],
   "source": [
    "# Weight matrix (this is the matrix that is learned)\n",
    "Wa = np.random.rand(3, 3)\n",
    "\n",
    "# Calculate attention scores (dot)\n",
    "attention_scores = np.dot(np.dot(decoder_hidden_state, Wa), np.transpose(encoder_hidden_states))\n",
    "\n",
    "# Apply softmax to get attention weights\n",
    "attention_weights = np.exp(attention_scores) / np.sum(np.exp(attention_scores))\n",
    "\n",
    "# Calculate context vector\n",
    "context_vector = np.dot(attention_weights, encoder_hidden_states)\n",
    "\n",
    "print(\"Attention Weights:\", attention_weights)\n",
    "print(\"Context Vector:\", context_vector)"
   ]
  }
 ],
 "metadata": {
  "kernelspec": {
   "display_name": "Python 3",
   "language": "python",
   "name": "python3"
  },
  "language_info": {
   "codemirror_mode": {
    "name": "ipython",
    "version": 3
   },
   "file_extension": ".py",
   "mimetype": "text/x-python",
   "name": "python",
   "nbconvert_exporter": "python",
   "pygments_lexer": "ipython3",
   "version": "3.10.4"
  },
  "orig_nbformat": 4
 },
 "nbformat": 4,
 "nbformat_minor": 2
}
